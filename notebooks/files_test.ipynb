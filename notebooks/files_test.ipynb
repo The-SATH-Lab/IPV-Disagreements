{
 "cells": [
  {
   "cell_type": "code",
   "execution_count": 1,
   "metadata": {},
   "outputs": [],
   "source": [
    "import os\n",
    "import numpy as np\n",
    "import pandas as pd\n",
    "import matplotlib.pyplot as plt"
   ]
  },
  {
   "cell_type": "code",
   "execution_count": 2,
   "metadata": {},
   "outputs": [],
   "source": [
    "import pickle\n",
    "import pandas as pd\n",
    "\n",
    "def load_pickle(file_path):\n",
    "    with open(file_path, 'rb') as file:\n",
    "        return pickle.load(file)\n",
    "\n",
    "def compare_dataframes_in_lists(list1, list2):\n",
    "    # Check if the lists have the same length\n",
    "    if len(list1) != len(list2):\n",
    "        return False\n",
    "\n",
    "    # Compare each corresponding DataFrame in the lists\n",
    "    for df1, df2 in zip(list1, list2):\n",
    "        if not isinstance(df1, pd.DataFrame) or not isinstance(df2, pd.DataFrame):\n",
    "            return False\n",
    "        if not df1.equals(df2):\n",
    "            return False\n",
    "    \n",
    "    return True\n",
    "\n",
    "def compare_pickles(file1, file2):\n",
    "    # Load the objects from both pickle files\n",
    "    obj1 = load_pickle(file1)\n",
    "    obj2 = load_pickle(file2)\n",
    "\n",
    "    # Ensure both objects are lists of DataFrames\n",
    "    if isinstance(obj1, list) and isinstance(obj2, list):\n",
    "        return compare_dataframes_in_lists(obj1, obj2)\n",
    "    \n",
    "    return False"
   ]
  },
  {
   "cell_type": "code",
   "execution_count": 3,
   "metadata": {},
   "outputs": [
    {
     "name": "stdout",
     "output_type": "stream",
     "text": [
      "The pickle files contain identical data: True\n"
     ]
    }
   ],
   "source": [
    "file1 = '/Users/maheshbabu/Documents/IPV-Disagreements/data/processed/SNAP/Messaging Data/preprocessed_dfs.pkl'\n",
    "file2 = '/Users/maheshbabu/Documents/IPV Project - SATH Lab/preprocessed_data/SNAP Study/all_participants/preprocessed_dfs.pkl'\n",
    "\n",
    "are_equal = compare_pickles(file1, file2)\n",
    "print(\"The pickle files contain identical data:\", are_equal)"
   ]
  },
  {
   "cell_type": "code",
   "execution_count": 4,
   "metadata": {},
   "outputs": [
    {
     "name": "stdout",
     "output_type": "stream",
     "text": [
      "The pickle files contain identical data: True\n"
     ]
    }
   ],
   "source": [
    "# Example usage\n",
    "file1 = '/Users/maheshbabu/Documents/IPV-Disagreements/data/processed/SOCIAL/Messaging Data/preprocessed_dfs.pkl'\n",
    "file2 = '/Users/maheshbabu/Documents/IPV Project - SATH Lab/preprocessed_data/SOCIAL Study/all_participants/preprocessed_dfs.pkl'\n",
    "\n",
    "are_equal = compare_pickles(file1, file2)\n",
    "print(\"The pickle files contain identical data:\", are_equal)"
   ]
  },
  {
   "cell_type": "code",
   "execution_count": 5,
   "metadata": {},
   "outputs": [
    {
     "name": "stdout",
     "output_type": "stream",
     "text": [
      "The csv files contain identical data: True\n"
     ]
    }
   ],
   "source": [
    "# Example usage\n",
    "file1 = '/Users/maheshbabu/Documents/IPV-Disagreements/data/processed/SNAP/EMA Data/preprocessed_ema.csv'\n",
    "file2 = '/Users/maheshbabu/Documents/IPV Project - SATH Lab/preprocessed_data_ema/SNAP Study/all_participants/preprocessed_ema.csv'\n",
    "\n",
    "df1 = pd.read_csv(file1)\n",
    "df2 = pd.read_csv(file2)\n",
    "\n",
    "are_equal = df1.equals(df2)\n",
    "print(\"The csv files contain identical data:\", are_equal)"
   ]
  },
  {
   "cell_type": "code",
   "execution_count": 6,
   "metadata": {},
   "outputs": [
    {
     "name": "stdout",
     "output_type": "stream",
     "text": [
      "The csv files contain identical data: True\n"
     ]
    }
   ],
   "source": [
    "# Example usage\n",
    "file1 = '/Users/maheshbabu/Documents/IPV-Disagreements/data/processed/SOCIAL/EMA Data/preprocessed_ema.csv'\n",
    "file2 = '/Users/maheshbabu/Documents/IPV Project - SATH Lab/preprocessed_data_ema/SOCIAL Study/all_participants/preprocessed_ema.csv'\n",
    "\n",
    "df1 = pd.read_csv(file1)\n",
    "df2 = pd.read_csv(file2)\n",
    "\n",
    "are_equal = df1.equals(df2)\n",
    "print(\"The csv files contain identical data:\", are_equal)"
   ]
  },
  {
   "cell_type": "code",
   "execution_count": null,
   "metadata": {},
   "outputs": [],
   "source": []
  }
 ],
 "metadata": {
  "kernelspec": {
   "display_name": "ipv",
   "language": "python",
   "name": "python3"
  },
  "language_info": {
   "codemirror_mode": {
    "name": "ipython",
    "version": 3
   },
   "file_extension": ".py",
   "mimetype": "text/x-python",
   "name": "python",
   "nbconvert_exporter": "python",
   "pygments_lexer": "ipython3",
   "version": "3.9.19"
  }
 },
 "nbformat": 4,
 "nbformat_minor": 2
}
